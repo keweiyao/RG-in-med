{
 "cells": [
  {
   "cell_type": "code",
   "execution_count": 419,
   "id": "f15888c7",
   "metadata": {},
   "outputs": [],
   "source": [
    "import numpy as np\n",
    "import matplotlib.pyplot as plt\n",
    "from scipy.special import beta\n",
    "from scipy.interpolate import interp1d, interp2d\n",
    "from scipy.integrate import quad\n",
    "import lhapdf\n",
    "import h5py\n",
    "from scipy.special import beta\n",
    "from scipy.optimize import brentq"
   ]
  },
  {
   "cell_type": "code",
   "execution_count": 420,
   "id": "9117d5e6",
   "metadata": {},
   "outputs": [],
   "source": [
    "# Weights for deformed pathlength:\n",
    "beta2 = 0.364\n",
    "Rmax = 1+beta2*np.sqrt(5/np.pi/16)*2\n",
    "\n",
    "# randomly sample a path\n",
    "def Path():\n",
    "    # randomly get a point in the sphear:\n",
    "    r=100\n",
    "    cos=1\n",
    "    while r>1+beta2*np.sqrt(5/np.pi/16)*(3*cos**2-1):\n",
    "        r = np.random.rand()**(1./3.)*Rmax\n",
    "        cos = np.random.rand()*2-1\n",
    "    phi = np.random.rand()*2*np.pi\n",
    "    sin = np.sqrt(1-cos**2)\n",
    "    X0 = r*sin*np.cos(phi)\n",
    "    Y0 = r*sin*np.sin(phi)\n",
    "    Z0 = r*cos\n",
    "    # randomly get a orientation of path length,\n",
    "    OmegaPhi = np.random.rand()*2*np.pi\n",
    "    OmegaCos = np.random.rand()*2-1\n",
    "    OmegaSin = np.sqrt(1-OmegaCos**2)\n",
    "    Nx = OmegaSin*np.cos(OmegaPhi)\n",
    "    Ny = OmegaSin*np.sin(OmegaPhi)\n",
    "    Nz = OmegaCos\n",
    "    # compute any point on the path to the origin, return D-R(cos)\n",
    "    def Rt(t):\n",
    "        X = X0+Nx*t\n",
    "        Y = Y0+Ny*t\n",
    "        Z = Z0+Nz*t\n",
    "        D = np.sqrt(X**2+Y**2+Z**2)\n",
    "        c2 = Z**2/D**2\n",
    "        RD = 1+beta2*np.sqrt(5/np.pi/16)*(3*c2-1)\n",
    "        return D-RD\n",
    "    return brentq(Rt, 0, 4)\n",
    "ps = np.array([Path() for i in range(100000)])"
   ]
  },
  {
   "cell_type": "code",
   "execution_count": 421,
   "id": "717a6a16",
   "metadata": {},
   "outputs": [
    {
     "data": {
      "text/plain": [
       "[<matplotlib.lines.Line2D at 0x7f7fd77a38b0>]"
      ]
     },
     "execution_count": 421,
     "metadata": {},
     "output_type": "execute_result"
    },
    {
     "data": {
      "image/png": "[encoded data removed]",
      "text/plain": [
       "<Figure size 432x288 with 1 Axes>"
      ]
     },
     "metadata": {
      "needs_background": "light"
     },
     "output_type": "display_data"
    }
   ],
   "source": [
    "_ = plt.hist(ps, density=True, bins=20, histtype='step')\n",
    "s = np.linspace(0,2,100)\n",
    "plt.plot(s, (4-s**2)/(4-s**2).sum()/.02, 'r-')\n"
   ]
  },
  {
   "cell_type": "code",
   "execution_count": 422,
   "id": "7cfd1054",
   "metadata": {},
   "outputs": [],
   "source": [
    "# Running coupling\n",
    "\n",
    "Mc = 1.3\n",
    "Mb = 4.2\n",
    "Mz = 91.7\n",
    "\n",
    "CA = 3.\n",
    "CF = 4./3.\n",
    "TR = 1./2.\n",
    "\n",
    "Nf = 3\n",
    "\n",
    "b0_q = 2./(11.-2./3.*3);\n",
    "b0_c = 2./(11.-2./3.*4);\n",
    "b0_b = 2./(11.-2./3.*5);\n",
    "alphas_Mz_bar = 0.118 / 2. / np.pi;\n",
    "Lambda2_b = Mz**2/np.exp(b0_b/alphas_Mz_bar);\n",
    "a5_Mb_bar = b0_b/np.log((2*Mb)**2/Lambda2_b);\n",
    "Lambda2_c = (2*Mb)**2/np.exp(b0_c/a5_Mb_bar);\n",
    "a4_Mc_bar = b0_c/np.log((2*Mc)**2/Lambda2_c);\n",
    "Lambda2_q = (2*Mc)**2/np.exp(b0_q/a4_Mc_bar);\n",
    "NPscale2 = Lambda2_q * 4.0;\n",
    "\n",
    "tc = b0_q*np.log(np.log(4*Mc*Mc/Lambda2_q));\n",
    "tb = b0_c*np.log(np.log(4*Mb*Mb/Lambda2_c))\\\n",
    "   - b0_c*np.log(np.log(4*Mc*Mc/Lambda2_c))\\\n",
    "   + b0_q*np.log(np.log(4*Mc*Mc/Lambda2_q));"
   ]
  },
  {
   "cell_type": "code",
   "execution_count": 423,
   "id": "00afe2db",
   "metadata": {},
   "outputs": [
    {
     "name": "stdout",
     "output_type": "stream",
     "text": [
      "LHAPDF 6.4.0 loading /home/weiyaoke/.local/share/LHAPDF/nNNPDF30_nlo_as_0118_p/nNNPDF30_nlo_as_0118_p_0000.dat\n",
      "nNNPDF30_nlo_as_0118_p PDF set, member #0, version 1; LHAPDF ID = 30020000\n",
      "LHAPDF 6.4.0 loading /home/weiyaoke/.local/share/LHAPDF/nNNPDF30_nlo_as_0118_A2_Z1/nNNPDF30_nlo_as_0118_A2_Z1_0000.dat\n",
      "nNNPDF30_nlo_as_0118_A2_Z1 PDF set, member #0, version 1; LHAPDF ID = 30020300\n",
      "LHAPDF 6.4.0 loading /home/weiyaoke/.local/share/LHAPDF/nNNPDF30_nlo_as_0118_A4_Z2/nNNPDF30_nlo_as_0118_A4_Z2_0000.dat\n",
      "nNNPDF30_nlo_as_0118_A4_Z2 PDF set, member #0, version 1; LHAPDF ID = 30020600\n",
      "LHAPDF 6.4.0 loading /home/weiyaoke/.local/share/LHAPDF/nNNPDF30_nlo_as_0118_A16_Z8/nNNPDF30_nlo_as_0118_A16_Z8_0000.dat\n",
      "nNNPDF30_nlo_as_0118_A16_Z8 PDF set, member #0, version 1; LHAPDF ID = 30022100\n",
      "LHAPDF 6.4.0 loading /home/weiyaoke/.local/share/LHAPDF/nNNPDF30_nlo_as_0118_A56_Z26/nNNPDF30_nlo_as_0118_A56_Z26_0000.dat\n",
      "nNNPDF30_nlo_as_0118_A56_Z26 PDF set, member #0, version 1; LHAPDF ID = 30023300\n",
      "LHAPDF 6.4.0 loading /home/weiyaoke/.local/share/LHAPDF/nNNPDF30_nlo_as_0118_A131_Z54/nNNPDF30_nlo_as_0118_A131_Z54_0000.dat\n",
      "nNNPDF30_nlo_as_0118_A131_Z54 PDF set, member #0, version 1; LHAPDF ID = 30024500\n",
      "LHAPDF 6.4.0 loading /home/weiyaoke/.local/share/LHAPDF/nNNPDF30_nlo_as_0118_A208_Z82/nNNPDF30_nlo_as_0118_A208_Z82_0000.dat\n",
      "nNNPDF30_nlo_as_0118_A208_Z82 PDF set, member #0, version 1; LHAPDF ID = 30025400\n"
     ]
    }
   ],
   "source": [
    "# PDF and FF\n",
    "PDFp = lhapdf.mkPDF(\"nNNPDF30_nlo_as_0118_p/0\")\n",
    "PDFd = lhapdf.mkPDF(\"nNNPDF30_nlo_as_0118_A2_Z1/0\")\n",
    "PDFHe = lhapdf.mkPDF(\"nNNPDF30_nlo_as_0118_A4_Z2/0\")\n",
    "PDFNe = lhapdf.mkPDF(\"nNNPDF30_nlo_as_0118_A16_Z8/0\")\n",
    "PDFKr = lhapdf.mkPDF(\"nNNPDF30_nlo_as_0118_A56_Z26/0\")\n",
    "PDFXe = lhapdf.mkPDF(\"nNNPDF30_nlo_as_0118_A131_Z54/0\")\n",
    "PDFPb = lhapdf.mkPDF(\"nNNPDF30_nlo_as_0118_A208_Z82/0\")\n",
    "@np.vectorize\n",
    "def Pp(pid, x, Q2):\n",
    "    return PDFp.xfxQ2(pid, x, Q2)/x\n",
    "@np.vectorize\n",
    "def Pd(pid, x, Q2):\n",
    "    return PDFd.xfxQ2(pid, x, Q2)/x\n",
    "@np.vectorize\n",
    "def PHe(pid, x, Q2):\n",
    "    return PDFHe.xfxQ2(pid, x, Q2)/x\n",
    "@np.vectorize\n",
    "def PNe(pid, x, Q2):\n",
    "    return PDFNe.xfxQ2(pid, x, Q2)/x\n",
    "@np.vectorize\n",
    "def PKr(pid, x, Q2):\n",
    "    return PDFKr.xfxQ2(pid, x, Q2)/x\n",
    "@np.vectorize\n",
    "def PXe(pid, x, Q2):\n",
    "    return PDFXe.xfxQ2(pid, x, Q2)/x\n",
    "\n",
    "@np.vectorize\n",
    "def PPb(pid, x, Q2):\n",
    "    return PDFPb.xfxQ2(pid, x, Q2)/x\n",
    "\n"
   ]
  },
  {
   "cell_type": "code",
   "execution_count": null,
   "id": "02e13bed",
   "metadata": {},
   "outputs": [],
   "source": []
  },
  {
   "cell_type": "code",
   "execution_count": 474,
   "id": "1498e8c9",
   "metadata": {},
   "outputs": [
    {
     "name": "stdout",
     "output_type": "stream",
     "text": [
      "LHAPDF 6.4.0 loading /home/weiyaoke/.local/share/LHAPDF/NNFF10_PIp_lo/NNFF10_PIp_lo_0000.dat\n",
      "NNFF10_PIp_lo PDF set, member #0, version 1; LHAPDF ID = 2000200\n",
      "LHAPDF 6.4.0 loading /home/weiyaoke/.local/share/LHAPDF/NNFF10_PIsum_lo/NNFF10_PIsum_lo_0000.dat\n",
      "NNFF10_PIsum_lo PDF set, member #0, version 1; LHAPDF ID = 2000400\n"
     ]
    },
    {
     "data": {
      "text/plain": [
       "[<matplotlib.lines.Line2D at 0x7f7fd9c565b0>]"
      ]
     },
     "execution_count": 474,
     "metadata": {},
     "output_type": "execute_result"
    },
    {
     "data": {
      "image/png": "[encoded data removed]",
      "text/plain": [
       "<Figure size 432x288 with 1 Axes>"
      ]
     },
     "metadata": {
      "needs_background": "light"
     },
     "output_type": "display_data"
    }
   ],
   "source": [
    "def FF_uubar2pi(z):\n",
    "    N = 0.387\n",
    "    a = -0.388\n",
    "    b = 0.910\n",
    "    g = 7.15\n",
    "    d = 3.96\n",
    "    return z*N*z**a*(1-z)**b*(1+g*(1-z)**d)/(beta(2+a, 1+b) + g*beta(2+a,1+b+d))\n",
    "\n",
    "def FF_ddbar2pi(z):\n",
    "    N = 0.388\n",
    "    a = -0.388\n",
    "    b = 0.910\n",
    "    g = 7.15\n",
    "    d = 3.96\n",
    "    return z*N*z**a*(1-z)**b*(1+g*(1-z)**d)/(beta(2+a, 1+b) + g*beta(2+a,1+b+d))\n",
    "\n",
    "def FF_ubar_or_d_2pi(z):\n",
    "    N = 0.105\n",
    "    a = 1.649\n",
    "    b = 3.286\n",
    "    g = 49.95\n",
    "    d = 8.67\n",
    "    return z*N*z**a*(1-z)**b*(1+g*(1-z)**d)/(beta(2+a, 1+b) + g*beta(2+a,1+b+d))\n",
    "\n",
    "def FF_ssbar2pi(z):\n",
    "    N = 0.273\n",
    "    a = 1.449\n",
    "    b = 3.286\n",
    "    g = 49.95\n",
    "    d = 8.67\n",
    "    return z*N*z**a*(1-z)**b*(1+g*(1-z)**d)/(beta(2+a, 1+b) + g*beta(2+a,1+b+d))\n",
    "\n",
    "def FF_g2pi(z):\n",
    "    N = 0.260\n",
    "    a = 2.552\n",
    "    b = 6.194\n",
    "    g = 87.06\n",
    "    d = 20.36\n",
    "    return z*N*z**a*(1-z)**b*(1+g*(1-z)**d)/(beta(2+a, 1+b) + g*beta(2+a,1+b+d))\n",
    "\n",
    "\n",
    "def FFpi0(pid,z,Q0=1):\n",
    "    if pid==2:\n",
    "        return FF_uubar2pi(z) - FF_ubar_or_d_2pi(z)\n",
    "    if pid==-1:\n",
    "        return FF_ddbar2pi(z) - FF_ubar_or_d_2pi(z)\n",
    "    if pid==-2 or pid == 1:\n",
    "        return FF_ubar_or_d_2pi(z)\n",
    "    if pid==3 or pid==-3:\n",
    "        return FF_ssbar2pi(z)/2\n",
    "    if pid==21:\n",
    "        return FF_g2pi(z)\n",
    "    \n",
    "\n",
    "FFpi = lhapdf.mkPDF(\"NNFF10_PIp_lo\")\n",
    "FFpi0 = lhapdf.mkPDF(\"NNFF10_PIsum_lo\")\n",
    "\n",
    "\n",
    "x  = np.linspace(.01, .999, 101)\n",
    "#\"\"\"\n",
    "plt.plot(x, [FFpi0.xfxQ2(2,ix,1) for ix in x],'b-')\n",
    "plt.plot(x, [FFpi0.xfxQ2(-2,ix,1) for ix in x],'b--')\n",
    "plt.plot(x, [FFpi0.xfxQ2(1,ix,1) for ix in x],'r-')\n",
    "plt.plot(x, [FFpi0.xfxQ2(-1,ix,1) for ix in x],'r--')\n",
    "plt.plot(x, [FFpi0.xfxQ2(3,ix,1) for ix in x],'g-')\n",
    "plt.plot(x, [FFpi0.xfxQ2(-3,ix,1) for ix in x],'g--')\n",
    "plt.plot(x, [FFpi0.xfxQ2(21,ix,1) for ix in x],'k-')\n",
    "#\"\"\"\n",
    "#plt.semilogy()\n",
    "#plt.semilogx()"
   ]
  },
  {
   "cell_type": "code",
   "execution_count": 425,
   "id": "0023cc81",
   "metadata": {},
   "outputs": [],
   "source": [
    "# Runge-Kuta-4 for ODE systems\n",
    "def RK4(t, y, dydt, dt):\n",
    "    k1 = dydt(t, y)\n",
    "    k2 = dydt(t+dt/2., y+dt/2.*k1)\n",
    "    k3 = dydt(t+dt/2., y+dt/2.*k2)\n",
    "    k4 = dydt(t+dt, y+dt*k3)\n",
    "    dy = dt/6. * (k1 + k2*2. + k3*2. + k4)\n",
    "    return y+dy\n",
    "\n",
    "def RK1(t, y, dydt, dt):\n",
    "    k1 = dydt(t, y)\n",
    "    return y+k1*dt"
   ]
  },
  {
   "cell_type": "code",
   "execution_count": null,
   "id": "a7c33695",
   "metadata": {},
   "outputs": [],
   "source": []
  },
  {
   "cell_type": "code",
   "execution_count": 426,
   "id": "fb16d593",
   "metadata": {},
   "outputs": [],
   "source": [
    "# Vacuum DGLAP kernels\n",
    "\n",
    "# Pqq\n",
    "@np.vectorize\n",
    "def Rqq(x, kt2):\n",
    "    return CF*(1+x**2)\n",
    "@np.vectorize\n",
    "def Dqq(Q2):\n",
    "    return CF*3./2.\n",
    "# Pgg\n",
    "@np.vectorize\n",
    "def Rgg(x, kt2):\n",
    "    return 2*CA * x\n",
    "@np.vectorize\n",
    "def Agg(x, kt2):\n",
    "    return 2*CA * ( (1-x)/x + x*(1-x) )\n",
    "@np.vectorize\n",
    "def Dgg(Q2):\n",
    "    return 2*CA * 11./12.\n",
    "@np.vectorize\n",
    "def Dgq(Q2):\n",
    "    return - 1./3.\n",
    "# Pqg\n",
    "@np.vectorize\n",
    "def Pqg(x, kt2):\n",
    "    return CF * (1+(1-x)**2)/x\n",
    "# Pqg\n",
    "@np.vectorize\n",
    "def Pgq(x, kt2):\n",
    "    return TR*(x**2+(1-x)**2) \n",
    "\n"
   ]
  },
  {
   "cell_type": "code",
   "execution_count": 427,
   "id": "aa501d2d",
   "metadata": {},
   "outputs": [],
   "source": [
    "# scheme-1 R(x)/[(1-x)]_+\n",
    "# Flavor non singlet: q - qbar\n",
    "def dF_NS_dt(t, zD):\n",
    "    #print(zD[0].sum()*dlnx)\n",
    "    Q2 = Lambda2_q * np.exp(np.exp(t/b0_q))\n",
    "    kt2 = np.ones_like(xgrid)*Q2\n",
    "    \n",
    "    Ni, N = zD.shape\n",
    "    dydt = np.zeros_like(zD)\n",
    "    Rgrids = Rqq(xgrid, kt2)\n",
    "    zover1mz = xgrid/(1-xgrid)\n",
    "    for k in range(Ni):\n",
    "        for i in range(N):\n",
    "\n",
    "            x = xgrid[i]\n",
    "            S1 = 0.0\n",
    "            for j in range(i,N):\n",
    "                S1 += (zD[k,N-1-j+i]*Rgrids[j] - zD[k,i]*Rgrids[N-1]) * zover1mz[j] * dlnx\n",
    "            dydt[k,i] += S1\n",
    "\n",
    "            S2 = 0.0\n",
    "            for j in range(i):\n",
    "                S2 +=  zover1mz[j] * dlnx\n",
    "            dydt[k,i] -= S2 * zD[k,i]*Rgrids[N-1]\n",
    "            dydt[k,i] += Dqq(Q2)*zD[k,i]\n",
    "    return -dydt\n",
    "\n",
    "# Coupled flavor singlet\n",
    "def dF_S_dt(t, zD):\n",
    "    Q2 = Lambda2_q * np.exp(np.exp(t/b0_q))\n",
    "    kt2 = np.ones_like(xgrid)*Q2\n",
    "    zG = zD[0]\n",
    "    zQs = zD[1:]\n",
    "    Nf = zQs.shape[0]\n",
    "    N = zG.size\n",
    "    dydt = np.zeros_like(zD)\n",
    "    zover1mz = xgrid/(1-xgrid)\n",
    "    \n",
    "    # Gluon part\n",
    "    Rgrids = Rgg(xgrid, kt2)\n",
    "    Agrids = Agg(xgrid, kt2)\n",
    "    Pgrids = Pqg(xgrid, kt2)\n",
    "    for i in range(N):\n",
    "        x = xgrid[i]\n",
    "        # From g->g\n",
    "        S1 = 0.0\n",
    "        for j in range(i,N-1):\n",
    "            S1 += (zG[N-1-j+i]*Rgrids[j] - zG[i]*Rgrids[N-1]) * zover1mz[j]\n",
    "        dydt[0,i] += S1 * dlnx\n",
    "        S2 = 0.0\n",
    "        for j in range(i):\n",
    "            S2 +=  zover1mz[j]\n",
    "        dydt[0,i] -= S2 * dlnx * zG[i]*Rgrids[N-1]\n",
    "        for j in range(i,N):\n",
    "            dydt[0,i] += zG[N-1-j+i]*Agrids[j]*xgrid[j] * dlnx\n",
    "        dydt[0,i] += (Dgg(Q2)+Nf*Dgq(Q2))*zG[i]\n",
    "        # From q -> q + g\n",
    "        for j in range(i,N):\n",
    "            dydt[0,i] += np.sum([zQs[iq][N-1-j+i] for iq in range(Nf)])*Pgrids[j]*xgrid[j] * dlnx\n",
    "          \n",
    "    # q+qbar part\n",
    "    Rgrids = Rqq(xgrid, kt2)\n",
    "    Pgrids = Pgq(xgrid, kt2)\n",
    "    for iq in range(Nf):\n",
    "        for i in range(N):        \n",
    "            S1 = 0.0\n",
    "            for j in range(i,N-1):\n",
    "                S1 += (zQs[iq,N-1-j+i]*Rgrids[j] - zQs[iq,i]*Rgrids[N-1]) * zover1mz[j]\n",
    "            dydt[1+iq,i] += S1 * dlnx\n",
    "            S2 = 0.0\n",
    "            for j in range(i):\n",
    "                S2 +=  zover1mz[j]\n",
    "            dydt[1+iq,i] -= S2 * dlnx * zQs[iq,i]*Rgrids[N-1]\n",
    "            dydt[1+iq,i] += Dqq(Q2)*zQs[iq,i]\n",
    "            # From g->qqbar\n",
    "            for j in range(i,N):\n",
    "                dydt[1+iq,i] += 2*zG[N-1-j+i]*Pgrids[j]*xgrid[j] * dlnx\n",
    "    return -dydt"
   ]
  },
  {
   "cell_type": "code",
   "execution_count": 428,
   "id": "c0d5d8ac",
   "metadata": {},
   "outputs": [],
   "source": [
    "# In-medium RG equation\n",
    "\n",
    "af = 2*CF*2*CA \n",
    "bf = 2*CF*(2*CA+CF)\n",
    "cf = CF\n",
    "\n",
    "ag = 2*CA*2*CA\n",
    "bg = 2*CF*Nf\n",
    "cg = 2*CF**2\n",
    "\n",
    "############# Naive solver, to be used with RK4\n",
    "def FiniteDiff(f,dx):\n",
    "    dfdx = np.zeros_like(f)\n",
    "    \n",
    "    for i in range(1, len(f)-1):\n",
    "        dfdx[i] = (f[i+1]-f[i-1])/2/dx\n",
    "    dfdx[-1] = 0\n",
    "    dfdx[0] = dfdx[1]\n",
    "    return dfdx\n",
    "\n",
    "def Rate_NS(t, Y):\n",
    "    dYdt = np.zeros_like(Y) \n",
    "    dYdy = np.zeros_like(Y)\n",
    "     \n",
    "    Nv = Y.shape[0]\n",
    "    for k in range(Nv):\n",
    "        dYdy[k] = FiniteDiff(Y[k],dy) \n",
    "        dYdt[k] = (af*dYdy[k] - bf*Y[k])/(1+af*t)\n",
    "    return dYdt\n",
    "    \n",
    "def Rate_S(t, Y):\n",
    "    dYdt = np.zeros_like(Y) \n",
    "    dYdy = np.zeros_like(Y)\n",
    "     \n",
    "    for k in range(len(Y)):\n",
    "        dYdy[k] = FiniteDiff(Y[k],dy) \n",
    "    # \n",
    "    for k in range(Nf):\n",
    "        dYdt[1+k] = (af*dYdy[1+k] - bf*Y[1+k] + cf*Y[0])/(1+af*t)\n",
    "    dYdt[0] = (ag*dYdy[0] - bg*Y[0] + cg*np.sum([Y[1+k] for k in range(Nf)], axis=0)\n",
    "              )/(1+ag*t)\n",
    "    return dYdt\n",
    "\n",
    "########## Fancy flux limiter solver\n",
    "def Compute_fluc(F, C):\n",
    "    flux = np.zeros_like(F)\n",
    "    Nx = len(F)\n",
    "    for i in range(Nx-2):\n",
    "        Fp = F[i+2]-F[i+1]\n",
    "        Fm = F[i+1]-F[i]\n",
    "        Fpp = F[(i+3)%Nx]-F[i+2]\n",
    "        \n",
    "        Rm = (Fp+1e-15)/(Fm+1e-15)\n",
    "        Lm = (Rm+np.abs(Rm))/(1+np.abs(Rm))\n",
    "        \n",
    "        Rp = (Fpp+1e-15)/(Fp+1e-15)\n",
    "        Lp = (Rp+np.abs(Rp))/(1+np.abs(Rp))\n",
    "        \n",
    "        flux[i+1] = C * Fp - .5*C*(1-C)*(Lp-Lm/Rm)*Fp \n",
    "        #flux[i+1] = .5*C*(F[i+2]-F[i]) + .5*C**2*(F[i+2]-2*F[i+1]+F[i])\n",
    "    flux[-1] = 0\n",
    "    flux[0] = 0\n",
    "    return flux\n",
    "\n",
    "def DeltaY_NS(dt, t, dy, Y):\n",
    "    flux = np.zeros_like(Y) \n",
    "    dY = np.zeros_like(Y)\n",
    "    for k in range(Y.shape[0]):\n",
    "        flux[k] = Compute_fluc(Y[k], af*dt/dy)\n",
    "        dY[k] = (flux[k] - bf*Y[k]*dt)/(1+af*t)\n",
    "    return dY  \n",
    "\n",
    "def DeltaY_S(dt, t, dy, Y):\n",
    "    flux = np.zeros_like(Y) \n",
    "    dY = np.zeros_like(Y)\n",
    "     \n",
    "    for k in range(len(Y)):\n",
    "        if k==0:\n",
    "            flux[k] = Compute_fluc(Y[k], ag*dt/dy)\n",
    "        else:\n",
    "            flux[k] = Compute_fluc(Y[k], af*dt/dy)\n",
    "    # \n",
    "    for k in range(Nf):\n",
    "\n",
    "        dY[1+k] = (flux[1+k] - dt*bf*Y[1+k] + dt*cf*Y[0])/(1+af*t)\n",
    "    dY[0] = (flux[0] - dt*bg*Y[0] + dt*cg*np.sum([Y[1+k] for k in range(Nf)], axis=0) )/(1+ag*t)\n",
    "    return dY"
   ]
  },
  {
   "cell_type": "code",
   "execution_count": 429,
   "id": "2cdf4084",
   "metadata": {},
   "outputs": [],
   "source": [
    "# Vacuum Grid\n",
    "Nx = 200\n",
    "lnxgrid = np.linspace(np.log(0.02),np.log(.9999),Nx)\n",
    "xgrid = np.exp(lnxgrid)\n",
    "dlnx = lnxgrid[1]-lnxgrid[0]"
   ]
  },
  {
   "cell_type": "code",
   "execution_count": 505,
   "id": "796e14d4",
   "metadata": {},
   "outputs": [
    {
     "name": "stdout",
     "output_type": "stream",
     "text": [
      "sqrt{s} =  44.731195423328444 Ee =  1066.098081023454\n",
      "y = 0.020000000000000007 E0= 21.321961620469086\n"
     ]
    }
   ],
   "source": [
    "# DIS setting\n",
    "Mp = 0.938\n",
    "Be =  10*100/Mp#27.6# \n",
    "BA = Mp*1.\n",
    "PA = np.sqrt(BA**2-Mp**2)\n",
    "\n",
    "\n",
    "sqrts = np.sqrt(Mp**2 + 2*Be*(BA+PA) )\n",
    "\n",
    "Ee = (sqrts**2-Mp**2)/(2*Mp)\n",
    "print(\"sqrt{s} = \", sqrts, \"Ee = \", Ee)\n",
    "Q2min = 1.0\n",
    "Q2max = 20.0#\n",
    "xB = 0.5\n",
    "yavg = Q2max/2/0.938/Ee/xB\n",
    "print(\"y =\", yavg, \"E0=\", Ee*yavg)"
   ]
  },
  {
   "cell_type": "code",
   "execution_count": 506,
   "id": "3f9ae788",
   "metadata": {},
   "outputs": [],
   "source": [
    "# IC\n",
    "sigma_z = 0.03\n",
    "Shift = 1 - 3*sigma_z\n",
    "\n",
    "alpha_em = 1/137\n",
    "HardCoeff = 2*np.pi*alpha_em**2/Q2max**4 * (1+(1-yavg)**2)\n",
    "\n",
    "#used as normalization\n",
    "def DIS(PDF):\n",
    "    uubar = (PDF(2,xB,Q2max) + PDF(-2,xB,Q2max)) \n",
    "    ddbar = (PDF(1,xB,Q2max) + PDF(-1,xB,Q2max)) \n",
    "    ssbar =  (PDF(3,xB,Q2max) + PDF(-3,xB,Q2max)) \n",
    "    return HardCoeff * (uubar*4/9 + ddbar*1/9 + ssbar*1/9)\n",
    "\n",
    "def PrepareSpectraIC(PDF):\n",
    "    smear = np.exp(-(xgrid-Shift)**2/sigma_z**2)\n",
    "    uv0 = (PDF(2,xB,Q2max) - PDF(-2,xB,Q2max)) * 4/9\n",
    "    dv0 = (PDF(1,xB,Q2max) - PDF(-1,xB,Q2max)) * 1/9 \n",
    "    G0 = 0.\n",
    "    u0 =  (PDF(2,xB,Q2max) + PDF(-2,xB,Q2max)) * 4/9 \n",
    "    d0 =  (PDF(1,xB,Q2max) + PDF(-1,xB,Q2max)) * 1/9 \n",
    "    s0 =  (PDF(3,xB,Q2max) + PDF(-3,xB,Q2max)) * 1/9 \n",
    "    F0 = np.array([G0, u0, d0, s0, uv0, dv0])\n",
    "    return xgrid*np.outer(F0, smear*xgrid) * HardCoeff / DIS(PDF)\n",
    " \n"
   ]
  },
  {
   "cell_type": "code",
   "execution_count": 507,
   "id": "be54642d",
   "metadata": {},
   "outputs": [],
   "source": [
    "Nucl='Pb'\n",
    "Anumber = 208"
   ]
  },
  {
   "cell_type": "code",
   "execution_count": 508,
   "id": "1ee32118",
   "metadata": {},
   "outputs": [
    {
     "name": "stderr",
     "output_type": "stream",
     "text": [
      "/home/weiyaoke/miniconda3/lib/python3.9/site-packages/numpy/lib/function_base.py:2387: RuntimeWarning: divide by zero encountered in PPb (vectorized)\n",
      "  outputs = ufunc(*inputs)\n",
      "/home/weiyaoke/miniconda3/lib/python3.9/site-packages/numpy/lib/function_base.py:2387: RuntimeWarning: divide by zero encountered in Pp (vectorized)\n",
      "  outputs = ufunc(*inputs)\n"
     ]
    },
    {
     "name": "stdout",
     "output_type": "stream",
     "text": [
      "0.42180651058152585\n",
      "0.40709414419781326\n",
      "0.39238177781410066\n",
      "0.37766941143038807\n",
      "0.3629570450466755\n",
      "0.3482446786629629\n",
      "0.3335323122792503\n",
      "0.3188199458955377\n",
      "0.3041075795118251\n",
      "0.2893952131281125\n"
     ]
    }
   ],
   "source": [
    "tmin = b0_q*np.log(np.log(Q2max/Lambda2_q))\n",
    "tmax = b0_q*np.log(np.log(Q2min/Lambda2_q))\n",
    "Nt = 10\n",
    "dt = (tmax-tmin)/Nt\n",
    "Q20 = Q2min*1.\n",
    "Ts = np.linspace(tmin, tmax, Nt)\n",
    "Q2s =  Lambda2_q*np.exp(np.exp(Ts/b0_q))\n",
    "\n",
    "FQA = [PrepareSpectraIC(PPb)]\n",
    "FQd = [PrepareSpectraIC(Pp)]\n",
    "t = tmin*1\n",
    "for t in Ts:\n",
    "    print(t)\n",
    "    FQA.append(np.array([*RK4(t, FQA[-1][:(Nf+1)], dF_S_dt, dt), *RK4(t, FQA[-1][(Nf+1):], dF_NS_dt, dt) ]) )\n",
    "    FQd.append(np.array([*RK4(t, FQd[-1][:(Nf+1)], dF_S_dt, dt), *RK4(t, FQd[-1][(Nf+1):], dF_NS_dt, dt) ]) )\n"
   ]
  },
  {
   "cell_type": "code",
   "execution_count": 509,
   "id": "2eb003aa",
   "metadata": {},
   "outputs": [],
   "source": [
    "FQA = np.array(FQA) # Q2, ch, x\n",
    "FQd = np.array(FQd) # Q2, ch, x\n",
    "\n",
    "# Interpolate the solution at the final scale\n",
    "F1 = []\n",
    "for iF in FQA[-1]:\n",
    "    F1.append(interp1d(lnxgrid, iF, fill_value=0, kind='cubic', bounds_error=False))\n",
    "    \n",
    "F1d = []\n",
    "for iFd in FQd[-1]:\n",
    "    F1d.append(interp1d(lnxgrid, iFd, fill_value=0, kind='cubic', bounds_error=False))"
   ]
  },
  {
   "cell_type": "code",
   "execution_count": 510,
   "id": "364810b8",
   "metadata": {},
   "outputs": [
    {
     "data": {
      "image/png": "[encoded data removed]",
      "text/plain": [
       "<Figure size 432x288 with 2 Axes>"
      ]
     },
     "metadata": {
      "needs_background": "light"
     },
     "output_type": "display_data"
    }
   ],
   "source": [
    "plt.subplot(1,2,1)\n",
    "\n",
    "XXX = np.linspace(1e-3,1-1e-3,1000)\n",
    "\n",
    "for iF, iFp, c in zip(F1, F1d, 'rgbcky'):\n",
    "    #plt.plot(np.log(XXX/(1-XXX)), iF(np.log(XXX)), '.-', color=c)\n",
    "    plt.subplot(1,2,1)\n",
    "    plt.plot(XXX, iF(np.log(XXX)), '.-', color=c)\n",
    "    plt.subplot(1,2,2)\n",
    "    plt.plot(XXX, iFp(np.log(XXX)), '-', color=c)"
   ]
  },
  {
   "cell_type": "code",
   "execution_count": null,
   "id": "3bdae972",
   "metadata": {},
   "outputs": [],
   "source": []
  },
  {
   "cell_type": "code",
   "execution_count": 511,
   "id": "9f406bfc",
   "metadata": {},
   "outputs": [
    {
     "name": "stdout",
     "output_type": "stream",
     "text": [
      "0.5147578171167962\n"
     ]
    },
    {
     "name": "stderr",
     "output_type": "stream",
     "text": [
      "/tmp/ipykernel_1076506/719915248.py:13: IntegrationWarning: The integral is probably divergent, or slowly convergent.\n",
      "  K = quad(df, 0, x)[0]*4/np.pi/BB(x) + np.euler_gamma*(1/BB(x)-1)\n"
     ]
    },
    {
     "data": {
      "image/png": "[encoded data removed]",
      "text/plain": [
       "<Figure size 432x288 with 1 Axes>"
      ]
     },
     "metadata": {
      "needs_background": "light"
     },
     "output_type": "display_data"
    }
   ],
   "source": [
    "from scipy.special import sici\n",
    "x = np.linspace(1,20,100)\n",
    "\n",
    "@np.vectorize\n",
    "def BB(x):\n",
    "    si, ci = sici(x)\n",
    "    return 4/np.pi*(x**2*si+np.sin(x) + x*(np.cos(x)-2))/2/x**2\n",
    "\n",
    "@np.vectorize\n",
    "def Chi(x):\n",
    "    def df(w):\n",
    "        return (1-np.sin(w)/w)/w**2*np.log(w)\n",
    "    K = quad(df, 0, x)[0]*4/np.pi/BB(x) + np.euler_gamma*(1/BB(x)-1)\n",
    "    return 2*np.exp(K)\n",
    "\n",
    "plt.plot(x, BB(x),'b-')\n",
    "plt.plot(x, Chi(x)/2/np.exp(1.5-np.euler_gamma),'r-')\n",
    "print(0.01*Q2max*2*1.2*131**0.333*5.076/2/12)\n",
    "#plt.ylim(0,1)"
   ]
  },
  {
   "cell_type": "code",
   "execution_count": 533,
   "id": "109bf60f",
   "metadata": {},
   "outputs": [
    {
     "name": "stdout",
     "output_type": "stream",
     "text": [
      "23.430727055460533 0.91\n"
     ]
    },
    {
     "name": "stderr",
     "output_type": "stream",
     "text": [
      "/tmp/ipykernel_1076506/62265678.py:13: IntegrationWarning: The maximum number of subdivisions (50) has been achieved.\n",
      "  If increasing the limit yields no improvement it is advised to analyze \n",
      "  the integrand in order to determine the difficulties.  If the position of a \n",
      "  local difficulty can be determined (singularity, discontinuity) one will \n",
      "  probably gain from splitting up the interval and calling the integrator \n",
      "  on the subranges.  Perhaps a special-purpose integrator should be used.\n",
      "  return quad(df, 0, E*m2**.5/2)[0]\n"
     ]
    },
    {
     "data": {
      "text/plain": [
       "0.0475887692729608"
      ]
     },
     "execution_count": 533,
     "metadata": {},
     "output_type": "execute_result"
    }
   ],
   "source": [
    "rhoref = 0.36/5.076**3\n",
    "Rref = 1.2*Anumber**(1./3.)*5.076\n",
    "Lmax = 2*Rref\n",
    "rho = rhoref*1.0\n",
    "\n",
    "La2 = Lambda2_q*1.\n",
    "m2 = 0.12\n",
    "E = Ee*yavg/Shift\n",
    "print(E, Shift)\n",
    "def qhat(E):\n",
    "    def df(q2):\n",
    "        return 4*np.pi/9/np.log(np.min([La2*np.e,q2])/La2) * CF * q2/(q2+m2)**2 * rho * 5.076\n",
    "    return quad(df, 0, E*m2**.5/2)[0]\n",
    "qhat(12)"
   ]
  },
  {
   "cell_type": "code",
   "execution_count": 515,
   "id": "2f942a7a",
   "metadata": {
    "scrolled": false
   },
   "outputs": [
    {
     "name": "stderr",
     "output_type": "stream",
     "text": [
      "/tmp/ipykernel_1076506/3471315639.py:13: IntegrationWarning: The integral is probably divergent, or slowly convergent.\n",
      "  return quad(df, 0, E*m2**.5/2)[0]\n"
     ]
    },
    {
     "name": "stdout",
     "output_type": "stream",
     "text": [
      "0.05 23.430727055460533 0.10071341266926376\n"
     ]
    },
    {
     "name": "stderr",
     "output_type": "stream",
     "text": [
      "/tmp/ipykernel_1076506/2262810342.py:93: IntegrationWarning: The integral is probably divergent, or slowly convergent.\n",
      "  quad(lambda x: G0_2(x)/x**2,xl,xh,epsrel=.05)[0]\n",
      "/tmp/ipykernel_1076506/2262810342.py:94: IntegrationWarning: The integral is probably divergent, or slowly convergent.\n",
      "  + quad(lambda x: G0_1(x)/x,xl,xh,epsrel=.05)[0]\n",
      "/tmp/ipykernel_1076506/3471315639.py:13: IntegrationWarning: The integral is probably divergent, or slowly convergent.\n",
      "  return quad(df, 0, E*m2**.5/2)[0]\n"
     ]
    },
    {
     "name": "stdout",
     "output_type": "stream",
     "text": [
      "0.15 23.430727055460533 0.10071341266926376\n"
     ]
    },
    {
     "name": "stderr",
     "output_type": "stream",
     "text": [
      "/tmp/ipykernel_1076506/2262810342.py:93: IntegrationWarning: The integral is probably divergent, or slowly convergent.\n",
      "  quad(lambda x: G0_2(x)/x**2,xl,xh,epsrel=.05)[0]\n",
      "/tmp/ipykernel_1076506/2262810342.py:94: IntegrationWarning: The integral is probably divergent, or slowly convergent.\n",
      "  + quad(lambda x: G0_1(x)/x,xl,xh,epsrel=.05)[0]\n",
      "/tmp/ipykernel_1076506/3471315639.py:13: IntegrationWarning: The integral is probably divergent, or slowly convergent.\n",
      "  return quad(df, 0, E*m2**.5/2)[0]\n"
     ]
    },
    {
     "name": "stdout",
     "output_type": "stream",
     "text": [
      "0.25 23.430727055460533 0.10071341266926376\n"
     ]
    },
    {
     "name": "stderr",
     "output_type": "stream",
     "text": [
      "/tmp/ipykernel_1076506/2262810342.py:93: IntegrationWarning: The integral is probably divergent, or slowly convergent.\n",
      "  quad(lambda x: G0_2(x)/x**2,xl,xh,epsrel=.05)[0]\n",
      "/tmp/ipykernel_1076506/2262810342.py:94: IntegrationWarning: The integral is probably divergent, or slowly convergent.\n",
      "  + quad(lambda x: G0_1(x)/x,xl,xh,epsrel=.05)[0]\n",
      "/tmp/ipykernel_1076506/3471315639.py:13: IntegrationWarning: The integral is probably divergent, or slowly convergent.\n",
      "  return quad(df, 0, E*m2**.5/2)[0]\n"
     ]
    },
    {
     "name": "stdout",
     "output_type": "stream",
     "text": [
      "0.35 23.430727055460533 0.10071341266926376\n"
     ]
    },
    {
     "name": "stderr",
     "output_type": "stream",
     "text": [
      "/tmp/ipykernel_1076506/2262810342.py:93: IntegrationWarning: The integral is probably divergent, or slowly convergent.\n",
      "  quad(lambda x: G0_2(x)/x**2,xl,xh,epsrel=.05)[0]\n",
      "/tmp/ipykernel_1076506/2262810342.py:94: IntegrationWarning: The integral is probably divergent, or slowly convergent.\n",
      "  + quad(lambda x: G0_1(x)/x,xl,xh,epsrel=.05)[0]\n",
      "/tmp/ipykernel_1076506/3471315639.py:13: IntegrationWarning: The integral is probably divergent, or slowly convergent.\n",
      "  return quad(df, 0, E*m2**.5/2)[0]\n"
     ]
    },
    {
     "name": "stdout",
     "output_type": "stream",
     "text": [
      "0.45 23.430727055460533 0.10071341266926376\n"
     ]
    },
    {
     "name": "stderr",
     "output_type": "stream",
     "text": [
      "/tmp/ipykernel_1076506/2262810342.py:93: IntegrationWarning: The integral is probably divergent, or slowly convergent.\n",
      "  quad(lambda x: G0_2(x)/x**2,xl,xh,epsrel=.05)[0]\n",
      "/tmp/ipykernel_1076506/2262810342.py:94: IntegrationWarning: The integral is probably divergent, or slowly convergent.\n",
      "  + quad(lambda x: G0_1(x)/x,xl,xh,epsrel=.05)[0]\n",
      "/tmp/ipykernel_1076506/3471315639.py:13: IntegrationWarning: The integral is probably divergent, or slowly convergent.\n",
      "  return quad(df, 0, E*m2**.5/2)[0]\n"
     ]
    },
    {
     "name": "stdout",
     "output_type": "stream",
     "text": [
      "0.55 23.430727055460533 0.10071341266926376\n"
     ]
    },
    {
     "name": "stderr",
     "output_type": "stream",
     "text": [
      "/tmp/ipykernel_1076506/2262810342.py:93: IntegrationWarning: The integral is probably divergent, or slowly convergent.\n",
      "  quad(lambda x: G0_2(x)/x**2,xl,xh,epsrel=.05)[0]\n",
      "/tmp/ipykernel_1076506/2262810342.py:94: IntegrationWarning: The integral is probably divergent, or slowly convergent.\n",
      "  + quad(lambda x: G0_1(x)/x,xl,xh,epsrel=.05)[0]\n",
      "/tmp/ipykernel_1076506/3471315639.py:13: IntegrationWarning: The integral is probably divergent, or slowly convergent.\n",
      "  return quad(df, 0, E*m2**.5/2)[0]\n"
     ]
    },
    {
     "name": "stdout",
     "output_type": "stream",
     "text": [
      "0.65 23.430727055460533 0.10071341266926376\n"
     ]
    },
    {
     "name": "stderr",
     "output_type": "stream",
     "text": [
      "/tmp/ipykernel_1076506/2262810342.py:93: IntegrationWarning: The integral is probably divergent, or slowly convergent.\n",
      "  quad(lambda x: G0_2(x)/x**2,xl,xh,epsrel=.05)[0]\n",
      "/tmp/ipykernel_1076506/2262810342.py:94: IntegrationWarning: The integral is probably divergent, or slowly convergent.\n",
      "  + quad(lambda x: G0_1(x)/x,xl,xh,epsrel=.05)[0]\n",
      "/tmp/ipykernel_1076506/3471315639.py:13: IntegrationWarning: The integral is probably divergent, or slowly convergent.\n",
      "  return quad(df, 0, E*m2**.5/2)[0]\n"
     ]
    },
    {
     "name": "stdout",
     "output_type": "stream",
     "text": [
      "0.75 23.430727055460533 0.10071341266926376\n"
     ]
    },
    {
     "name": "stderr",
     "output_type": "stream",
     "text": [
      "/tmp/ipykernel_1076506/2262810342.py:93: IntegrationWarning: The integral is probably divergent, or slowly convergent.\n",
      "  quad(lambda x: G0_2(x)/x**2,xl,xh,epsrel=.05)[0]\n",
      "/tmp/ipykernel_1076506/2262810342.py:94: IntegrationWarning: The integral is probably divergent, or slowly convergent.\n",
      "  + quad(lambda x: G0_1(x)/x,xl,xh,epsrel=.05)[0]\n",
      "/tmp/ipykernel_1076506/3471315639.py:13: IntegrationWarning: The integral is probably divergent, or slowly convergent.\n",
      "  return quad(df, 0, E*m2**.5/2)[0]\n"
     ]
    },
    {
     "name": "stdout",
     "output_type": "stream",
     "text": [
      "0.85 23.430727055460533 0.10071341266926376\n"
     ]
    },
    {
     "name": "stderr",
     "output_type": "stream",
     "text": [
      "/tmp/ipykernel_1076506/2262810342.py:93: IntegrationWarning: The integral is probably divergent, or slowly convergent.\n",
      "  quad(lambda x: G0_2(x)/x**2,xl,xh,epsrel=.05)[0]\n",
      "/tmp/ipykernel_1076506/2262810342.py:94: IntegrationWarning: The integral is probably divergent, or slowly convergent.\n",
      "  + quad(lambda x: G0_1(x)/x,xl,xh,epsrel=.05)[0]\n",
      "/tmp/ipykernel_1076506/3471315639.py:13: IntegrationWarning: The integral is probably divergent, or slowly convergent.\n",
      "  return quad(df, 0, E*m2**.5/2)[0]\n"
     ]
    },
    {
     "name": "stdout",
     "output_type": "stream",
     "text": [
      "0.95 23.430727055460533 0.10071341266926376\n"
     ]
    },
    {
     "name": "stderr",
     "output_type": "stream",
     "text": [
      "/tmp/ipykernel_1076506/2262810342.py:93: IntegrationWarning: The integral is probably divergent, or slowly convergent.\n",
      "  quad(lambda x: G0_2(x)/x**2,xl,xh,epsrel=.05)[0]\n",
      "/tmp/ipykernel_1076506/2262810342.py:94: IntegrationWarning: The integral is probably divergent, or slowly convergent.\n",
      "  + quad(lambda x: G0_1(x)/x,xl,xh,epsrel=.05)[0]\n"
     ]
    },
    {
     "data": {
      "image/png": "[encoded data removed]",
      "text/plain": [
       "<Figure size 432x288 with 1 Axes>"
      ]
     },
     "metadata": {
      "needs_background": "light"
     },
     "output_type": "display_data"
    }
   ],
   "source": [
    "# Medium part\n",
    "Lps = np.array([0.05, 0.15, 0.25, 0.35, 0.45, \n",
    "                0.55, 0.65, 0.75, 0.85, 0.95])\n",
    "for Lp in Lps:\n",
    "    print(Lp, E, qhat(E))\n",
    "\n",
    "    L = Lmax * Lp\n",
    "\n",
    "    \n",
    "    Nz = 200\n",
    "    y = np.linspace(np.log(.02), np.log(1), Nz)\n",
    "    dy = y[1]-y[0]\n",
    "    z = np.exp(y)\n",
    "    dtau = dy/ag\n",
    "\n",
    "\n",
    "    # Compute matching coefficient\n",
    "    def p45(x):\n",
    "        return CF*(1+x**2) * (CA+CA*x**2+(1-x)**2*(2*CF-CA))\n",
    "    def p123(x):\n",
    "        return CF*(1+x**2) * (CA+CA*x**2+(1-x)**2*(2*CF-CA))\n",
    "    def p0(x):\n",
    "        return CA*(1+x**4+(1-x)**4) * (CA+CA*x**2+(1-x)**2*CA)\n",
    "    def dp0(x):\n",
    "        return 12*CA**2*(2*x-1)*(x**2-x+1)**2\n",
    "    def c_qg(x):\n",
    "        return CF*(1+(1-x)**2) * (CA+(1-x)**2*CA + x**2*(2*CF-CA))\n",
    "    def c_gq(x):\n",
    "        return TR*(x**2+(1-x)**2) * (CA*x**2+(1-x)**2*CA + (2*CF-CA))\n",
    "    xl,xh = .05, .95\n",
    "    def FO_NLO(z, it, FF):\n",
    "        Res = np.zeros(6)\n",
    "        Finalscale = np.max([Chi(Q2max*L/2/yavg/Ee) * z*E/L, m2])\n",
    "        Amu2 = (4*np.pi/9/np.log(Finalscale/La2))**2 \\\n",
    "             * rho*L**2/8/E * BB(Q2max*L/2/yavg/Ee)\n",
    "        B = FF(z)/z\n",
    "        dFdz1 = (FF(z+.005)-FF(z-.005))/.01\n",
    "\n",
    "        if it in [4,5]:\n",
    "            def G1_2(x):\n",
    "                A = x/z*FF(z/x) if x>z else 0.\n",
    "                res =  p45(x)*(A-B) - (x-1)*p45(1)*(B-dFdz1)\n",
    "                return res\n",
    "\n",
    "            def G1_1(x):\n",
    "                A = x/z*FF(z/x) if x>z else 0.\n",
    "                res =  p45(x)*(A-B)\n",
    "                return res\n",
    "\n",
    "            def G0_1(x):\n",
    "                A = x/z*FF(z/x) if x>z else 0.\n",
    "                res =  p45(x)*(A-B) - p45(0)*(0.-B)\n",
    "                return res\n",
    "\n",
    "            Res[it] = Amu2* ( \n",
    "                    quad(lambda x: G1_2(x)/(1-x)**2,xl,xh,epsrel=.05)[0] \n",
    "                  + quad(lambda x: G1_1(x)/(1-x),xl,xh,epsrel=.05)[0] \n",
    "                  + quad(lambda x: G0_1(x)/x,xl,xh,epsrel=.05)[0] \n",
    "                  + CF*(4*CA-CF)*B )\n",
    "\n",
    "        if it in [1,2,3]:\n",
    "            def G1_2(x):\n",
    "                A = x/z*FF(z/x) if x>z else 0.\n",
    "                res =  p45(x)*(A-B) - (x-1)*p45(1)*(B-dFdz1)\n",
    "                return res\n",
    "\n",
    "            def G1_1(x):\n",
    "                A = x/z*FF(z/x) if x>z else 0.\n",
    "                res =  p45(x)*(A-B)\n",
    "                return res\n",
    "\n",
    "            def G0_1(x):\n",
    "                A = x/z*FF(z/x) if x>z else 0.\n",
    "                res =  p45(x)*(A-B) - p45(0)*(0.-B)\n",
    "                return res\n",
    "            Res[it] = Amu2* ( \n",
    "                    quad(lambda x: G1_2(x)/(1-x)**2,xl,xh,epsrel=.05)[0] \n",
    "                  + quad(lambda x: G1_1(x)/(1-x),xl,xh,epsrel=.05)[0] \n",
    "                  + quad(lambda x: G0_1(x)/x,xl,xh,epsrel=.05)[0] \n",
    "                  + CF*(4*CA-CF)*B )\n",
    "\n",
    "            def G0_2(x):\n",
    "                return c_qg(x)*x/z*FF(z/x) if x>z else 0.\n",
    "\n",
    "            def G0_1(x):\n",
    "                return c_qg(x)*x/z*FF(z/x) if x>z else 0.\n",
    "\n",
    "            def G1_1(x):\n",
    "                A = x/z*FF(z/x) if x>z else 0.\n",
    "                res =  c_qg(x)*(A-B)\n",
    "                return res\n",
    "            Res[0] = Amu2* ( \n",
    "                    quad(lambda x: G0_2(x)/x**2,xl,xh,epsrel=.05)[0] \n",
    "                  + quad(lambda x: G0_1(x)/x,xl,xh,epsrel=.05)[0] \n",
    "                  + quad(lambda x: G1_1(x)/(1-x),xl,xh,epsrel=.05)[0] \n",
    "                  - 3*CF**2*B )\n",
    "\n",
    "        if it == 0:\n",
    "            def G1_2(x):\n",
    "                A = x/z*FF(z/x) if x>z else 0.\n",
    "                res =  p0(x)*(A-B) - (x-1)*p0(1)*(B-dFdz1)\n",
    "                return res\n",
    "\n",
    "            def G1_1(x):\n",
    "                A = x/z*FF(z/x) if x>z else 0.\n",
    "                res =  2*p0(x)*(A-B)\n",
    "                return res\n",
    "\n",
    "            def G0_1(x):\n",
    "                A = x/z*FF(z/x) if x>z else 0.\n",
    "                res =  2*p0(x)*(A-B) - 2*p0(0)*(0.-B)\n",
    "                return res\n",
    "\n",
    "            def G0_2(x):\n",
    "                A = x/z*FF(z/x) if x>z else 0.\n",
    "                res =  p0(x)*(A-B) - p0(0)*(0.-B) - x*dp0(0)*(0.-B)\n",
    "                return res\n",
    "\n",
    "            def C1_1(x):\n",
    "                return c_gq(x)-c_gq(1)\n",
    "\n",
    "            def C0_1(x):\n",
    "                return c_gq(x)-c_gq(0)\n",
    "\n",
    "            Res[it] = Amu2* ( \n",
    "                    quad(lambda x: G1_2(x)/(1-x)**2,xl,xh,epsrel=.05)[0] \n",
    "                  + quad(lambda x: G1_1(x)/(1-x),xl,xh,epsrel=.05)[0] \n",
    "                  + quad(lambda x: G0_1(x)/x,xl,xh,epsrel=.05)[0] \n",
    "                  + quad(lambda x: G0_2(x)/x**2,xl,xh,epsrel=.05)[0] \n",
    "                  + 14*CA**2*B \n",
    "                  - Nf*B*( quad(lambda x: C1_1(x)/(1-x),xl,xh,epsrel=.05)[0]\n",
    "                         + quad(lambda x: C0_1(x)/x,xl,xh,epsrel=.05)[0])\n",
    "                  )\n",
    "\n",
    "            def C1_1(x):\n",
    "                A = x/z*FF(z/x) if x>z else 0.\n",
    "                return c_gq(x)*A-c_gq(1)*B\n",
    "\n",
    "            def C0_1(x):\n",
    "                A = x/z*FF(z/x) if x>z else 0.\n",
    "                return c_gq(x)*A\n",
    "\n",
    "            dQ = Amu2* ( \n",
    "                  + quad(lambda x: C1_1(x)/(1-x),xl,xh,epsrel=.05)[0] \n",
    "                  + quad(lambda x: C0_1(x)/x,xl,xh,epsrel=.05)[0] \n",
    "                  )\n",
    "            Res[1] = dQ\n",
    "            Res[2] = dQ\n",
    "            Res[3] = dQ\n",
    "        return Res\n",
    "\n",
    "\n",
    "    # The fixed order contribution:\n",
    "    ZFO = 1.-np.exp(-np.linspace(.01, np.log(1/0.001),100))\n",
    "    Fmed_fixed_order_data = np.zeros([len(ZFO),6])\n",
    "    Fmed_fixed_order = []\n",
    "    for it in [0,1,2,3,4,5]:\n",
    "        iF1 = interp1d(xgrid, FQA[-1][it], fill_value=0, kind='cubic', bounds_error=False)\n",
    "        dY = np.array([FO_NLO(zzz, it, iF1) for zzz in ZFO])\n",
    "        Fmed_fixed_order_data += dY\n",
    "    for it in [0,1,2,3,4,5]:    \n",
    "        Fmed_fixed_order.append(interp1d(ZFO, Fmed_fixed_order_data[:,it], \n",
    "                                         fill_value=0., kind='cubic', bounds_error=False)\n",
    "                               )\n",
    "\n",
    "    Tmax = np.pi/9*rho*L**2/2/E*4*np.pi/9*1/np.log(m2/La2)*10*E/L/m2 * BB(Q2max*L/2/yavg/Ee)\n",
    "    Ts = np.arange(int(Tmax/dtau))*dtau\n",
    "    Zgrid = np.linspace(.01,.9999,1000)\n",
    "    FinalScale = np.max([Chi(Q2max*L/2/yavg/Ee)*Zgrid*E/L, m2*Zgrid**0], axis=0)\n",
    "    Tauy = -np.pi/9*rho*L**2/2/E*BB(Q2max*L/2/yavg/Ee) \\\n",
    "          * (4*np.pi/9/np.log(FinalScale/La2) - 4*np.pi/9/np.log(m2/La2))\n",
    "    Ty = Tauy/Zgrid\n",
    "    # RG only, start with vacuum initial condition\n",
    "    Fmed = [ np.array([F1[iv](y) for iv in range(6)]) ]\n",
    "    for it in Ts:\n",
    "        # flux limiter solver, better than RK4 near shock boundary\n",
    "        iF = np.concatenate([Fmed[-1][:Nf+1] + DeltaY_S(dtau, it, dy, Fmed[-1][:Nf+1]),\n",
    "                             Fmed[-1][Nf+1:] + DeltaY_NS(dtau, it, dy, Fmed[-1][Nf+1:])], axis=0)\n",
    "        Fmed.append(iF)\n",
    "    Fmed = np.array(Fmed)\n",
    "    F2 = []\n",
    "    for i in range(6):\n",
    "        F2.append(interp2d(y, Ts, Fmed[1:,i], fill_value=0))\n",
    "    # RG only interpolate to the right evolution boundary mu^2 = Chi()*z*E/L\n",
    "    zF2RG = []\n",
    "    for iF, c in zip(F2, 'rgbcky'):\n",
    "        RG = np.array([iF(iy, iTy)[0] for iy, iTy in zip(np.log(Zgrid), Ty)])\n",
    "        zF2RG.append(RG)        \n",
    "        plt.plot(Zgrid[::20], RG[::20], '--', color=c)\n",
    "        \n",
    "    # RG with initial conditon + FO\n",
    "    Fmed = [ np.array([F1[iv](y)+ Fmed_fixed_order[iv](z) for iv in range(6)]) ]\n",
    "    for it in Ts:\n",
    "        # flux limiter solver, better than RK4 near shock boundary\n",
    "        iF = np.concatenate([Fmed[-1][:Nf+1] + DeltaY_S(dtau, it, dy, Fmed[-1][:Nf+1]),\n",
    "                             Fmed[-1][Nf+1:] + DeltaY_NS(dtau, it, dy, Fmed[-1][Nf+1:])], axis=0)\n",
    "        Fmed.append(iF)\n",
    "    Fmed = np.array(Fmed)\n",
    "    F2 = []\n",
    "    for i in range(6):\n",
    "        F2.append(interp2d(y, Ts, Fmed[1:,i], fill_value=0))\n",
    "    # RG only interpolate to the right evolution boundary mu^2 = Chi()*z*E/L\n",
    "    zF2Full = []\n",
    "    for iF, c in zip(F2, 'rgbcky'):\n",
    "        Full = np.array([iF(iy, iTy)[0] for iy, iTy in zip(np.log(Zgrid), Ty)])\n",
    "        zF2Full.append(Full)        \n",
    "        plt.plot(Zgrid[::20], Full[::20], '--', color=c)\n",
    "\n",
    "    \n",
    "\n",
    "    # interpolate the final spectra\n",
    "    zFmedFull = {\n",
    "    21: interp1d(Zgrid,zF2Full[0],fill_value=0., bounds_error=False, kind='cubic'),\n",
    "    2: interp1d(Zgrid,(zF2Full[1]+zF2Full[1+Nf])/2.,fill_value=0., bounds_error=False, kind='cubic'),\n",
    "    -2: interp1d(Zgrid,(zF2Full[1]-zF2Full[1+Nf])/2.,fill_value=0., bounds_error=False, kind='cubic'),\n",
    "    1: interp1d(Zgrid,(zF2Full[2]+zF2Full[2+Nf])/2.,fill_value=0., bounds_error=False, kind='cubic'),\n",
    "    -1: interp1d(Zgrid,(zF2Full[2]-zF2Full[2+Nf])/2.,fill_value=0., bounds_error=False, kind='cubic'),\n",
    "    3: interp1d(Zgrid, zF2Full[3]/2.,fill_value=0., bounds_error=False, kind='cubic'),\n",
    "    -3: interp1d(Zgrid, zF2Full[3]/2.,fill_value=0., bounds_error=False, kind='cubic'),\n",
    "    }\n",
    "\n",
    "    zFmedRG = {\n",
    "    21: interp1d(Zgrid,zF2RG[0],fill_value=0., bounds_error=False, kind='cubic'),\n",
    "    2: interp1d(Zgrid,(zF2RG[1]+zF2RG[1+Nf])/2.,fill_value=0., bounds_error=False, kind='cubic'),\n",
    "    -2: interp1d(Zgrid,(zF2RG[1]-zF2RG[1+Nf])/2.,fill_value=0., bounds_error=False, kind='cubic'),\n",
    "    1: interp1d(Zgrid,(zF2RG[2]+zF2RG[2+Nf])/2.,fill_value=0., bounds_error=False, kind='cubic'),\n",
    "    -1: interp1d(Zgrid,(zF2RG[2]-zF2RG[2+Nf])/2.,fill_value=0., bounds_error=False, kind='cubic'),\n",
    "    3: interp1d(Zgrid, zF2RG[3]/2.,fill_value=0., bounds_error=False, kind='cubic'),\n",
    "    -3: interp1d(Zgrid, zF2RG[3]/2.,fill_value=0., bounds_error=False, kind='cubic'),\n",
    "    }\n",
    "\n",
    "    zFvac = {\n",
    "    21: interp1d(xgrid,FQd[-1][0],fill_value=0., bounds_error=False, kind='cubic'),\n",
    "    2: interp1d(xgrid,(FQd[-1][1]+FQd[-1][1+Nf])/2.,fill_value=0., bounds_error=False, kind='cubic'),\n",
    "    -2: interp1d(xgrid,(FQd[-1][1]-FQd[-1][1+Nf])/2.,fill_value=0., bounds_error=False, kind='cubic'),\n",
    "    1: interp1d(xgrid,(FQd[-1][2]+FQd[-1][2+Nf])/2.,fill_value=0., bounds_error=False, kind='cubic'),\n",
    "    -1: interp1d(xgrid,(FQd[-1][2]-FQd[-1][2+Nf])/2.,fill_value=0., bounds_error=False, kind='cubic'),\n",
    "    3: interp1d(xgrid, FQd[-1][3]/2.,fill_value=0., bounds_error=False, kind='cubic'),\n",
    "    -3: interp1d(xgrid, FQd[-1][3]/2.,fill_value=0., bounds_error=False, kind='cubic'),\n",
    "    }\n",
    "\n",
    "\n",
    "    @np.vectorize\n",
    "    def F2pi(zh, Spectra):\n",
    "        def df(lnx):\n",
    "            x = np.exp(lnx)\n",
    "            res = 0.\n",
    "            for pid in [21,1,2,3,-1,-2,-3]:\n",
    "                res += Spectra[pid](x) * FFpi0.xfxQ2(pid, zh/x, Q20) \n",
    "            return res\n",
    "        return quad(df, np.log(zh), np.log(1), epsrel=.04)[0]\n",
    "\n",
    "    zh = np.linspace(.05, .99, 101)\n",
    "    zdNdz_pi_medFull = F2pi(zh, zFmedFull)\n",
    "    zdNdz_pi_medRG = F2pi(zh, zFmedRG)\n",
    "    zdNdz_pi_vac = F2pi(zh, zFvac)\n",
    "\n",
    "    with open(\"rho1d5/res-{}-Qsq20-x0d5-Lp{}.dat\".format(Nucl,Lp),'w') as f:\n",
    "    #with open(\"rho0d67/res-{}-Lp{}.dat\".format(Nucl,Lp),'w') as f:\n",
    "        for i1, i2, i3, i4, i5 in zip(zh, zdNdz_pi_medRG, zdNdz_pi_vac, zdNdz_pi_medFull, zdNdz_pi_vac):\n",
    "            f.write(\"{:1.4f}\\t{:1.4e}\\t{:1.4e}\\t{:1.4e}\\t{:1.4e}\\n\".format(i1,i2,i3,i4,i5))\n",
    "\n",
    "\n"
   ]
  },
  {
   "cell_type": "code",
   "execution_count": null,
   "id": "290fa809",
   "metadata": {},
   "outputs": [],
   "source": []
  },
  {
   "cell_type": "code",
   "execution_count": 526,
   "id": "de02d126",
   "metadata": {},
   "outputs": [
    {
     "name": "stderr",
     "output_type": "stream",
     "text": [
      "/tmp/ipykernel_1076506/3471315639.py:13: IntegrationWarning: The maximum number of subdivisions (50) has been achieved.\n",
      "  If increasing the limit yields no improvement it is advised to analyze \n",
      "  the integrand in order to determine the difficulties.  If the position of a \n",
      "  local difficulty can be determined (singularity, discontinuity) one will \n",
      "  probably gain from splitting up the interval and calling the integrator \n",
      "  on the subranges.  Perhaps a special-purpose integrator should be used.\n",
      "  return quad(df, 0, E*m2**.5/2)[0]\n"
     ]
    },
    {
     "data": {
      "text/plain": [
       "0.07138315398125648"
      ]
     },
     "execution_count": 526,
     "metadata": {},
     "output_type": "execute_result"
    }
   ],
   "source": [
    "qhat(12)"
   ]
  },
  {
   "cell_type": "code",
   "execution_count": 522,
   "id": "f9ecccaf",
   "metadata": {},
   "outputs": [
    {
     "name": "stderr",
     "output_type": "stream",
     "text": [
      "/tmp/ipykernel_1076506/2390412675.py:76: MatplotlibDeprecationWarning: Passing the pad parameter of tight_layout() positionally is deprecated since Matplotlib 3.3; the parameter will become keyword-only two minor releases later.\n",
      "  plt.tight_layout(True)\n"
     ]
    },
    {
     "data": {
      "image/png": "[encoded data removed]",
      "text/plain": [
       "<Figure size 324x252 with 6 Axes>"
      ]
     },
     "metadata": {
      "needs_background": "light"
     },
     "output_type": "display_data"
    }
   ],
   "source": [
    "\n",
    "fig, axes = plt.subplots(nrows=2,ncols=3,figsize=(4.5,3.5), sharex=True, sharey=True)\n",
    "def plotE(GG,c,ax,mfc='none'):\n",
    "    z,zl,zh,RA,stat,_,sys,_ = np.loadtxt(\"../TMDPDF/HERMES/e{}-pi+.dat\".format(GG), skiprows=12,delimiter=',').T\n",
    "    ax.errorbar(z,RA,xerr=[z-zl, zh-z], yerr=stat, fmt='.', lw=1.2,\n",
    "                color=c)\n",
    "    for xl, xh, yl, yh in zip(zl, zh, RA-sys, RA+sys):\n",
    "        ax.fill_between([xl,xh],[yl,yl],[yh,yh],edgecolor='none',facecolor=c, alpha=.5)\n",
    "\n",
    "ccr, ccg, ccb = plt.cm.Reds(.6), plt.cm.Greens(.6), plt.cm.Blues(.6)\n",
    "\n",
    "\n",
    "Ehermes = 12\n",
    "zc = 0.85\n",
    "\n",
    "for ax, nucl in zip(axes[0],['Ne','Kr','Xe']):\n",
    "    ax.fill_between([zc,1.04],[0,0],[1.1,1.1], alpha=.6, facecolor='none',\n",
    "                edgecolor='grey', hatch='////')\n",
    "    plotE(nucl, 'grey', ax)\n",
    "    \n",
    "    # FO+RG vs RG\n",
    "    ZH, A0, D0, A1, D1 = np.average([np.loadtxt(\"rho1/res-{}-Lp{}.dat\".format(nucl, sl)) for sl in Lps],\n",
    "                            weights=1-Lps**2, axis=0).T\n",
    "    c = (ZH>.12) & (ZH/Shift<zc)\n",
    "    ax.plot(ZH[c]/Shift, A1[c]/D1[c], '-', color=ccb, label='FO+RG', lw=2)\n",
    "    ax.plot(ZH[c]/Shift, A0[c]/D0[c], '--', color=ccr, label='RG', lw=2)\n",
    "    \n",
    "    \n",
    "    # FO+RG, vary rhoG\n",
    "    ZH, _, _, AH, DH = np.average([np.loadtxt(\"rho1d5/res-{}-Lp{}.dat\".format(nucl, sl)) for sl in Lps],\n",
    "                            weights=1-Lps**2, axis=0).T\n",
    "    ZH, _, _, AL, DL = np.average([np.loadtxt(\"rho0d67/res-{}-Lp{}.dat\".format(nucl, sl)) for sl in Lps],\n",
    "                            weights=1-Lps**2, axis=0).T\n",
    "    ax.fill_between(ZH[c]/Shift, AL[c]/DL[c], AH[c]/DH[c], color=ccb, alpha=.6)\n",
    "    \n",
    "    ax.annotate(nucl, xy=(.1, .65), fontsize=10)\n",
    "    ax.annotate(r\"HERMES $\\pi^+$\",\n",
    "            xy=(.05,1), fontsize=10)\n",
    "axes[0,0].legend(loc=\"best\",fontsize=10, framealpha=0)\n",
    "\n",
    "for ax, x0, lx0 in zip(axes[1], [0.1, 0.3, 0.5], [\"0d1\", \"0d3\", \"0d5\"]):\n",
    "    ax.fill_between([zc,1.04],[0,0],[1.1,1.1], alpha=.6, facecolor='none',\n",
    "                edgecolor='grey', hatch='////')\n",
    "\n",
    "    nu = 20.0/2/0.938/x0\n",
    "    label=r\"$x_B={}$\".format(x0)+'\\n'+r\"$Q^2=20{{\\rm~GeV}}^2$\"\n",
    "    ZH, A0, D0, A1, D1 = np.average([np.loadtxt(\"rho1/res-Pb-Qsq20-x{}-Lp{}.dat\".format(lx0,sl)) \n",
    "                                     for sl in Lps], weights=1-Lps**2, axis=0).T\n",
    "                        \n",
    "\n",
    "    cut = (0.05<ZH) & (ZH/Shift<zc)\n",
    "    ax.plot(ZH[cut]/Shift, A1[cut]/D1[cut], '-', color=ccb, alpha=1, lw=2)\n",
    "    ax.plot(ZH[cut]/Shift, A0[cut]/D0[cut], '--', color=ccr, alpha=1, lw=2)\n",
    "    ax.annotate(label, xy=(.01,.35), fontsize=10)\n",
    "    \n",
    "    # FO+RG, vary rhoG\n",
    "    ZH, _, _, AH, DH = np.average([np.loadtxt(\"rho1d5/res-Pb-Qsq20-x{}-Lp{}.dat\".format(lx0,sl)) \n",
    "                                     for sl in Lps], weights=1-Lps**2, axis=0).T\n",
    "    ZH, _, _, AL, DL = np.average([np.loadtxt(\"rho0d67/res-Pb-Qsq20-x{}-Lp{}.dat\".format(lx0,sl)) \n",
    "                                     for sl in Lps], weights=1-Lps**2, axis=0).T\n",
    "    ax.fill_between(ZH[cut]/Shift, AL[cut]/DL[cut], AH[cut]/DH[cut], color=ccb, alpha=.6)\n",
    "\n",
    "    ax.annotate(r\"$e$+Pb$\\rightarrow\\pi^{\\pm}$\",\n",
    "                xy=(.05,1), fontsize=10)\n",
    "\n",
    "ax.set_xlim(0,.98)\n",
    "ax.set_ylim(.3,1.1)\n",
    "axes[1,1].set_xlabel(\"$z_h$\", fontsize=15)\n",
    "for ax in axes.T[0]:\n",
    "    ax.set_ylabel(\"$R_{A}$\", fontsize=15)\n",
    "\n",
    "for ax in axes.flatten():\n",
    "    ax.set_xticks([.0, .2, .4, .6, .8], )\n",
    "    ax.tick_params(axis='both', which='major', labelsize=8.5)\n",
    "    #ax.tick_params(axis='both', which='minor', labelsize=8)\n",
    "\n",
    "plt.tight_layout(True)\n",
    "\n",
    "plt.subplots_adjust(hspace=0, wspace=0.,left=.13, right=.99, bottom=.14, top=.99)\n",
    "\n",
    "\n",
    "plt.savefig(\"RA-RG-fixed-order.png\",dpi=400)"
   ]
  },
  {
   "cell_type": "code",
   "execution_count": 525,
   "id": "be33a05a",
   "metadata": {},
   "outputs": [
    {
     "name": "stderr",
     "output_type": "stream",
     "text": [
      "/tmp/ipykernel_1076506/4270830823.py:77: MatplotlibDeprecationWarning: Passing the pad parameter of tight_layout() positionally is deprecated since Matplotlib 3.3; the parameter will become keyword-only two minor releases later.\n",
      "  plt.tight_layout(True)\n"
     ]
    },
    {
     "data": {
      "image/png": "[encoded data removed]",
      "text/plain": [
       "<Figure size 288x252 with 4 Axes>"
      ]
     },
     "metadata": {
      "needs_background": "light"
     },
     "output_type": "display_data"
    }
   ],
   "source": [
    "\n",
    "fig, axes = plt.subplots(nrows=2,ncols=2,figsize=(4,3.5), sharex=True, sharey=True)\n",
    "def plotE(GG,c,ax,mfc='none'):\n",
    "    z,zl,zh,RA,stat,_,sys,_ = np.loadtxt(\"../TMDPDF/HERMES/e{}-pi+.dat\".format(GG), skiprows=12,delimiter=',').T\n",
    "    ax.errorbar(z,RA,xerr=[z-zl, zh-z], yerr=stat, fmt='.', lw=1.2,\n",
    "                color=c)\n",
    "    for xl, xh, yl, yh in zip(zl, zh, RA-sys, RA+sys):\n",
    "        ax.fill_between([xl,xh],[yl,yl],[yh,yh],edgecolor='none',facecolor=c, alpha=.5)\n",
    "\n",
    "ccr, ccg, ccb = plt.cm.Reds(.6), plt.cm.Greens(.6), plt.cm.Blues(.6)\n",
    "\n",
    "\n",
    "Ehermes = 12\n",
    "zc = 0.85\n",
    "\n",
    "for ax, nucl in zip(axes[0],['Kr','Xe']):\n",
    "    ax.fill_between([zc,1.04],[0,0],[1.1,1.1], alpha=.6, facecolor='none',\n",
    "                edgecolor='grey', hatch='////')\n",
    "    plotE(nucl, 'grey', ax)\n",
    "    \n",
    "    # FO+RG vs RG\n",
    "    ZH, A0, D0, A1, D1 = np.average([np.loadtxt(\"rho1/res-{}-Lp{}.dat\".format(nucl, sl)) for sl in Lps],\n",
    "                            weights=1-Lps**2, axis=0).T\n",
    "    c = (ZH>.12) & (ZH/Shift<zc)\n",
    "    ax.plot(ZH[c]/Shift, A1[c]/D1[c], '-', color=ccb, label='FO+RG', lw=2)\n",
    "    ax.plot(ZH[c]/Shift, A0[c]/D0[c], '--', color=ccr, label='RG', lw=2)\n",
    "    \n",
    "    \n",
    "    # FO+RG, vary rhoG\n",
    "    ZH, _, _, AH, DH = np.average([np.loadtxt(\"rho1d5/res-{}-Lp{}.dat\".format(nucl, sl)) for sl in Lps],\n",
    "                            weights=1-Lps**2, axis=0).T\n",
    "    ZH, _, _, AL, DL = np.average([np.loadtxt(\"rho0d67/res-{}-Lp{}.dat\".format(nucl, sl)) for sl in Lps],\n",
    "                            weights=1-Lps**2, axis=0).T\n",
    "    ax.fill_between(ZH[c]/Shift, AL[c]/DL[c], AH[c]/DH[c], color=ccb, alpha=.6)\n",
    "    \n",
    "    ax.annotate(nucl, xy=(.1, .65), fontsize=10)\n",
    "    ax.annotate(r\"HERMES $\\pi^+$\",\n",
    "            xy=(.05,1), fontsize=10)\n",
    "axes[0,0].legend(loc=\"lower left\",fontsize=10, framealpha=0)\n",
    "\n",
    "for ax, x0, lx0 in zip(axes[1], [0.1, 0.5], [\"0d1\", \"0d5\"]):\n",
    "    ax.fill_between([zc,1.04],[0,0],[1.1,1.1], alpha=.6, facecolor='none',\n",
    "                edgecolor='grey', hatch='////')\n",
    "\n",
    "    nu = 20.0/2/0.938/x0\n",
    "    label=r\"$x_B={}$\".format(x0)+'\\n'+r\"$Q^2=20{{\\rm~GeV}}^2$\"\n",
    "    ZH, A0, D0, A1, D1 = np.average([np.loadtxt(\"rho1/res-Pb-Qsq20-x{}-Lp{}.dat\".format(lx0,sl)) \n",
    "                                     for sl in Lps], weights=1-Lps**2, axis=0).T\n",
    "                        \n",
    "\n",
    "    cut = (0.05<ZH) & (ZH/Shift<zc)\n",
    "    ax.plot(ZH[cut]/Shift, A1[cut]/D1[cut], '-', color=ccb, alpha=1, lw=2)\n",
    "    ax.plot(ZH[cut]/Shift, A0[cut]/D0[cut], '--', color=ccr, alpha=1, lw=2)\n",
    "    ax.annotate(label, xy=(.01,.35), fontsize=10)\n",
    "    \n",
    "    # FO+RG, vary rhoG\n",
    "    ZH, _, _, AH, DH = np.average([np.loadtxt(\"rho1d5/res-Pb-Qsq20-x{}-Lp{}.dat\".format(lx0,sl)) \n",
    "                                     for sl in Lps], weights=1-Lps**2, axis=0).T\n",
    "    ZH, _, _, AL, DL = np.average([np.loadtxt(\"rho0d67/res-Pb-Qsq20-x{}-Lp{}.dat\".format(lx0,sl)) \n",
    "                                     for sl in Lps], weights=1-Lps**2, axis=0).T\n",
    "    ax.fill_between(ZH[cut]/Shift, AL[cut]/DL[cut], AH[cut]/DH[cut], color=ccb, alpha=.6)\n",
    "\n",
    "    ax.annotate(r\"$e$+Pb$\\rightarrow\\pi^{\\pm}$\",\n",
    "                xy=(.05,1), fontsize=10)\n",
    "\n",
    "ax.set_xlim(0,.98)\n",
    "ax.set_ylim(.3,1.1)\n",
    "axes[1,0].set_xlabel(\"$z_h$\", fontsize=15)\n",
    "axes[1,1].set_xlabel(\"$z_h$\", fontsize=15)\n",
    "for ax in axes.T[0]:\n",
    "    ax.set_ylabel(\"$R_{A}$\", fontsize=15)\n",
    "\n",
    "for ax in axes.flatten():\n",
    "    ax.set_xticks([.0, .2, .4, .6, .8], )\n",
    "    ax.tick_params(axis='both', which='major', labelsize=8.5)\n",
    "    #ax.tick_params(axis='both', which='minor', labelsize=8)\n",
    "\n",
    "plt.tight_layout(True)\n",
    "\n",
    "plt.subplots_adjust(hspace=0, wspace=0.,left=.13, right=.99, bottom=.14, top=.99)\n",
    "\n",
    "\n",
    "plt.savefig(\"RA-RG-fixed-order-22.png\",dpi=400)"
   ]
  },
  {
   "cell_type": "code",
   "execution_count": null,
   "id": "b7d4119e",
   "metadata": {},
   "outputs": [],
   "source": [
    "print(Shift)\n",
    "plt.figure(figsize=(4,3.))\n",
    "def plotE(GG,c):\n",
    "    z,zl,zh,RA,stat,_,sys,_ = np.loadtxt(\"../TMDPDF/HERMES/e{}-pi+.dat\".format(GG), \n",
    "                                         skiprows=12,delimiter=',').T\n",
    "    plt.errorbar(z,RA,xerr=[z-zl, zh-z], yerr=stat, fmt='D',color=c, label=r'$e{{\\rm{}}}\\rightarrow\\pi^+$'.format(GG))\n",
    "\n",
    "\n",
    "plotE('Xe','b')\n",
    "ZH, A0, D0, A1, D1 = np.average([np.loadtxt(\"res-Xe-Lp{}.dat\".format(sl)) for sl in Lps],\n",
    "                        weights=1-Lps**2, axis=0).T\n",
    "cut = ZH>.1\n",
    "plt.plot(ZH[cut]/Shift, A1[cut]/D1[cut], 'b--', label='RG + Fixed order')\n",
    "plt.plot(ZH[cut]/Shift, A0[cut]/D0[cut], 'b-', label='RG only')\n",
    "\n",
    "\n",
    "plotE('Ne','r')\n",
    "ZH, A0, D0, A1, D1 = np.average([np.loadtxt(\"res-Ne-Lp{}.dat\".format(sl)) for sl in Lps],\n",
    "                        weights=1-Lps**2, axis=0).T\n",
    "cut = ZH>.1\n",
    "plt.plot(ZH[cut]/Shift, A1[cut]/D1[cut], 'r--')\n",
    "plt.plot(ZH[cut]/Shift, A0[cut]/D0[cut], 'r-')\n",
    "\n",
    "\n",
    "Ehermes = 12\n",
    "L1 = 1.16*131**0.33333333*5.076\n",
    "T1 = -np.pi/9*rho*L1**2/2/Ehermes*4*np.pi/9*(1/np.log(np.max([5*E/L1/La2,m2/La2],axis=0))-1/np.log(m2/La2))\n",
    "zc = 1-4*CF*CA*T1\n",
    "plt.fill_between([zc,1.04],[0,0],[.6,.6], alpha=.4, color='b')\n",
    "\n",
    "\n",
    "L1 = 1.16*20**0.33333333*5.076\n",
    "T1 = -np.pi/9*rho*L1**2/2/Ehermes*4*np.pi/9*(1/np.log(np.max([5*E/L1/La2,m2/La2],axis=0))-1/np.log(m2/La2))\n",
    "zc = 1-4*CF*CA*T1\n",
    "plt.fill_between([zc,1.04],[0,0],[1,1], alpha=.6, facecolor='none', edgecolor='r', hatch='////')\n",
    "\n",
    "\n",
    "plt.legend(fontsize=11, framealpha=0)\n",
    "plt.xlim(0,1.0)\n",
    "plt.ylim(.0,1.05)\n",
    "plt.xlabel(\"$z_h$\", fontsize=15)\n",
    "plt.ylabel(\"$R_{A}$\", fontsize=15)\n",
    "\n",
    "\n",
    "#plt.title(\"Not using exact the same kinematic cuts\", fontsize=15)\n",
    "plt.tight_layout(True)\n",
    "plt.savefig(\"RA-HERMES.png\",dpi=300)"
   ]
  },
  {
   "cell_type": "code",
   "execution_count": null,
   "id": "2c5d5b68",
   "metadata": {},
   "outputs": [],
   "source": []
  },
  {
   "cell_type": "code",
   "execution_count": null,
   "id": "12f23879",
   "metadata": {},
   "outputs": [],
   "source": []
  },
  {
   "cell_type": "code",
   "execution_count": null,
   "id": "37846a36",
   "metadata": {},
   "outputs": [],
   "source": []
  }
 ],
 "metadata": {
  "kernelspec": {
   "display_name": "Python 3 (ipykernel)",
   "language": "python",
   "name": "python3"
  },
  "language_info": {
   "codemirror_mode": {
    "name": "ipython",
    "version": 3
   },
   "file_extension": ".py",
   "mimetype": "text/x-python",
   "name": "python",
   "nbconvert_exporter": "python",
   "pygments_lexer": "ipython3",
   "version": "3.9.5"
  }
 },
 "nbformat": 4,
 "nbformat_minor": 5
}
