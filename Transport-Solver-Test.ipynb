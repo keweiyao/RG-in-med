{
 "cells": [
  {
   "cell_type": "code",
   "execution_count": 1,
   "id": "cec9522c",
   "metadata": {},
   "outputs": [],
   "source": [
    "import numpy as np\n",
    "import matplotlib.pyplot as plt"
   ]
  },
  {
   "cell_type": "code",
   "execution_count": 318,
   "id": "e1dd981a",
   "metadata": {},
   "outputs": [],
   "source": [
    "@np.vectorize\n",
    "def f(x,t=0):  \n",
    "    X = (x-t)/3\n",
    "    return .3*(0<X)*(X<1)*np.abs(X)**0*np.abs(1-X)**0\n",
    "\n",
    "\n",
    "def S(sf):\n",
    "    #print(sf)\n",
    "    return sf*(1-np.exp(-sf))"
   ]
  },
  {
   "cell_type": "code",
   "execution_count": 319,
   "id": "6509ed27",
   "metadata": {},
   "outputs": [
    {
     "data": {
      "text/plain": [
       "[<matplotlib.lines.Line2D at 0x7f85e53ff940>]"
      ]
     },
     "execution_count": 319,
     "metadata": {},
     "output_type": "execute_result"
    },
    {
     "data": {
      "image/png": "[encoded data removed]",
      "text/plain": [
       "<Figure size 432x288 with 1 Axes>"
      ]
     },
     "metadata": {
      "needs_background": "light"
     },
     "output_type": "display_data"
    }
   ],
   "source": [
    "x = np.linspace(0,20,400)\n",
    "dx = x[1]-x[0]\n",
    "T=7\n",
    "plt.plot(x, f(x))\n",
    "plt.plot(x, f(x,T))"
   ]
  },
  {
   "cell_type": "code",
   "execution_count": 306,
   "id": "7ccb3f89",
   "metadata": {},
   "outputs": [],
   "source": [
    "# Naive \n",
    "def N0Solve(x,F,dt,N):\n",
    "    dx = x[1]-x[0]\n",
    "    C = dt/dx\n",
    "    flux = np.zeros_like(F)\n",
    "    for n in range(N):\n",
    "        for i in range(len(F)-2):\n",
    "            flux[i+1] = -    C*(S(F[i+1])-S(F[i])) \\\n",
    "                        - .5*C*(1-C)*(S(F[i+2])-S(F[i+1])*2+S(F[i]))\n",
    "        flux[0] = 0\n",
    "        flux[-1] = 0\n",
    "        F += flux\n",
    "    return F\n",
    "    "
   ]
  },
  {
   "cell_type": "code",
   "execution_count": 307,
   "id": "89eff6ad",
   "metadata": {},
   "outputs": [],
   "source": [
    "# flux limiter\n",
    "def N1Solve(x,F,dt,N):\n",
    "    dx = x[1]-x[0]\n",
    "    C = dt/dx\n",
    "    Nx = len(F)\n",
    "    flux = np.zeros_like(F)\n",
    "    for n in range(N):\n",
    "        for i in range(Nx-2):\n",
    "            Fp = S(F[i+2])-S(F[i+1])\n",
    "            Fm = S(F[i+1])-S(F[i])\n",
    "            Fmm = S(F[i])-S(F[(i-1)%Nx])\n",
    "            Rp = (Fm+1e-10)/(Fp+1e-10)\n",
    "            Rm = (Fmm+1e-10)/(Fm+1e-10)\n",
    "            Lp = (Rp+np.abs(Rp))/(1+np.abs(Rp))\n",
    "            Lm = (Rm+np.abs(Rm))/(1+np.abs(Rm))\n",
    "            flux[i+1] = - C * ( 1 + .5*(1-C)*(Lp/Rp-Lm) )*Fm\n",
    "        flux[0] = 0\n",
    "        flux[-1] = 0\n",
    "        F += flux\n",
    "    return F"
   ]
  },
  {
   "cell_type": "code",
   "execution_count": 320,
   "id": "6eac42f3",
   "metadata": {
    "scrolled": true
   },
   "outputs": [
    {
     "name": "stderr",
     "output_type": "stream",
     "text": [
      "/tmp/ipykernel_80787/3936572486.py:9: RuntimeWarning: overflow encountered in exp\n",
      "  return sf*(1-np.exp(-sf))\n",
      "/tmp/ipykernel_80787/2680290651.py:9: RuntimeWarning: invalid value encountered in double_scalars\n",
      "  - .5*C*(1-C)*(S(F[i+2])-S(F[i+1])*2+S(F[i]))\n",
      "/tmp/ipykernel_80787/2680290651.py:8: RuntimeWarning: invalid value encountered in double_scalars\n",
      "  flux[i+1] = -    C*(S(F[i+1])-S(F[i])) \\\n"
     ]
    }
   ],
   "source": [
    "\n",
    "dt = dx/2\n",
    "T=15\n",
    "N = int(T/dt)\n",
    "F1 = N0Solve(x, f(x,1), dt, N)\n",
    "F2 = N1Solve(x, f(x,1), dt, N)\n"
   ]
  },
  {
   "cell_type": "code",
   "execution_count": 321,
   "id": "2e13220c",
   "metadata": {},
   "outputs": [
    {
     "data": {
      "text/plain": [
       "[<matplotlib.lines.Line2D at 0x7f85e5375af0>]"
      ]
     },
     "execution_count": 321,
     "metadata": {},
     "output_type": "execute_result"
    },
    {
     "data": {
      "image/png": "[encoded data removed]",
      "text/plain": [
       "<Figure size 432x288 with 1 Axes>"
      ]
     },
     "metadata": {
      "needs_background": "light"
     },
     "output_type": "display_data"
    }
   ],
   "source": [
    "plt.plot(x, f(x,T), 'k-')\n",
    "plt.plot(x, F1, 'r:')\n",
    "plt.plot(x, F2, 'b--')"
   ]
  },
  {
   "cell_type": "code",
   "execution_count": null,
   "id": "a0e36db6",
   "metadata": {},
   "outputs": [],
   "source": []
  },
  {
   "cell_type": "code",
   "execution_count": null,
   "id": "3e130a52",
   "metadata": {},
   "outputs": [],
   "source": []
  },
  {
   "cell_type": "code",
   "execution_count": null,
   "id": "82b9c1cb",
   "metadata": {},
   "outputs": [],
   "source": []
  }
 ],
 "metadata": {
  "kernelspec": {
   "display_name": "Python 3 (ipykernel)",
   "language": "python",
   "name": "python3"
  },
  "language_info": {
   "codemirror_mode": {
    "name": "ipython",
    "version": 3
   },
   "file_extension": ".py",
   "mimetype": "text/x-python",
   "name": "python",
   "nbconvert_exporter": "python",
   "pygments_lexer": "ipython3",
   "version": "3.9.5"
  }
 },
 "nbformat": 4,
 "nbformat_minor": 5
}
