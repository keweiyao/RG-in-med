{
 "cells": [
  {
   "cell_type": "code",
   "execution_count": 2,
   "id": "c6dcb086",
   "metadata": {},
   "outputs": [
    {
     "data": {
      "text/plain": [
       "'0.8.0'"
      ]
     },
     "execution_count": 2,
     "metadata": {},
     "output_type": "execute_result"
    }
   ],
   "source": [
    "import eko\n",
    "eko.version.__version__"
   ]
  },
  {
   "cell_type": "code",
   "execution_count": 81,
   "id": "045e1bc1",
   "metadata": {},
   "outputs": [],
   "source": [
    "from scipy.special import digamma\n",
    "import numpy as np\n",
    "from scipy.integrate import quad\n",
    "import matplotlib.pyplot as plt"
   ]
  },
  {
   "cell_type": "code",
   "execution_count": 260,
   "id": "c319100d",
   "metadata": {},
   "outputs": [],
   "source": [
    "@np.vectorize\n",
    "def f(x,t):\n",
    "    def df(s):\n",
    "        N = -1 + 1j*s\n",
    "        arg = -2*np.euler_gamma - 2*digamma(2+N)-1/(2+N) - 1/(3+N) + 17/6.\n",
    "        \n",
    "        return ( np.exp(arg*t-N*np.log(x) - np.abs(N/50)**2 )  ).real/2/np.pi\n",
    "    Max = 100/np.log(1/x)\n",
    "    return quad(df,-Max,Max)[0]"
   ]
  },
  {
   "cell_type": "code",
   "execution_count": 264,
   "id": "f4039664",
   "metadata": {},
   "outputs": [
    {
     "data": {
      "text/plain": [
       "(0.0, 14.500754391861419)"
      ]
     },
     "execution_count": 264,
     "metadata": {},
     "output_type": "execute_result"
    },
    {
     "data": {
      "image/png": "[encoded data removed]",
      "text/plain": [
       "<Figure size 432x288 with 1 Axes>"
      ]
     },
     "metadata": {
      "needs_background": "light"
     },
     "output_type": "display_data"
    }
   ],
   "source": [
    "x = np.linspace(.01,.995,201)\n",
    "for t in [0,.25,.5,.75,1]:\n",
    "    Y = f(x, t)\n",
    "    plt.plot(x,Y)\n",
    "#print(x)\n",
    "#print(Y)\n",
    "\n",
    "plt.xlim(0,1)\n",
    "plt.ylim(ymin=0)"
   ]
  },
  {
   "cell_type": "code",
   "execution_count": 259,
   "id": "1b19fdf1",
   "metadata": {},
   "outputs": [
    {
     "data": {
      "text/plain": [
       "0.131"
      ]
     },
     "execution_count": 259,
     "metadata": {},
     "output_type": "execute_result"
    }
   ],
   "source": [
    "0.42-0.289\n"
   ]
  },
  {
   "cell_type": "code",
   "execution_count": 140,
   "id": "8d5abc20",
   "metadata": {},
   "outputs": [
    {
     "data": {
      "text/plain": [
       "-0.6291418505840323"
      ]
     },
     "execution_count": 140,
     "metadata": {},
     "output_type": "execute_result"
    }
   ],
   "source": [
    "np.log(2*10*0.1*1000/20) - np.log(2*100*0.938)"
   ]
  },
  {
   "cell_type": "code",
   "execution_count": null,
   "id": "d7d8c57f",
   "metadata": {},
   "outputs": [],
   "source": []
  }
 ],
 "metadata": {
  "kernelspec": {
   "display_name": "Python 3 (ipykernel)",
   "language": "python",
   "name": "python3"
  },
  "language_info": {
   "codemirror_mode": {
    "name": "ipython",
    "version": 3
   },
   "file_extension": ".py",
   "mimetype": "text/x-python",
   "name": "python",
   "nbconvert_exporter": "python",
   "pygments_lexer": "ipython3",
   "version": "3.9.5"
  }
 },
 "nbformat": 4,
 "nbformat_minor": 5
}
